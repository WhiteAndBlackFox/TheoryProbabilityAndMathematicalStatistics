{
 "cells": [
  {
   "cell_type": "markdown",
   "metadata": {},
   "source": [
    "# Урок 8. Дисперсионный анализ. Логистическая регрессия"
   ]
  },
  {
   "cell_type": "code",
   "execution_count": 5,
   "metadata": {},
   "outputs": [],
   "source": [
    "import numpy as np"
   ]
  },
  {
   "cell_type": "markdown",
   "metadata": {},
   "source": [
    "## 1. Провести дисперсионный анализ для определения того, есть ли различия среднего роста среди взрослых футболистов, хоккеистов и штангистов. Даны значения роста в трех группах случайно выбранных спортсменов: Футболисты: 173, 175, 180, 178, 177, 185, 183, 182. Хоккеисты: 177, 179, 180, 188, 177, 172, 171, 184, 180. Штангисты: 172, 173, 169, 177, 166, 180, 178, 177, 172, 166, 170."
   ]
  },
  {
   "cell_type": "code",
   "execution_count": 2,
   "metadata": {},
   "outputs": [],
   "source": [
    "f = np.array([173, 175, 180, 178, 177, 185, 183, 182])\n",
    "h = np.array([177, 179, 180, 188, 177, 172, 171, 184, 180])\n",
    "w = np.array([172, 173, 169, 177, 166, 180, 178, 177, 172, 166, 170])"
   ]
  },
  {
   "cell_type": "code",
   "execution_count": 23,
   "metadata": {},
   "outputs": [
    {
     "name": "stdout",
     "output_type": "stream",
     "text": [
      "Среднее значение роста у футболистов: 179.125\n",
      "Среднее значение роста у хоккеистов: 178.66666666666666\n",
      "Среднее значение роста у цтангистов: 172.72727272727272\n"
     ]
    }
   ],
   "source": [
    "mean_f = np.mean(f)\n",
    "mean_h = np.mean(h)\n",
    "mean_w = np.mean(w)\n",
    "\n",
    "n = f.size + h.size + w.size\n",
    "\n",
    "print(f\"Среднее значение роста у футболистов: {mean_f}\")\n",
    "print(f\"Среднее значение роста у хоккеистов: {mean_h}\")\n",
    "print(f\"Среднее значение роста у цтангистов: {mean_w}\")"
   ]
  },
  {
   "cell_type": "code",
   "execution_count": 12,
   "metadata": {},
   "outputs": [
    {
     "name": "stdout",
     "output_type": "stream",
     "text": [
      "Среднее значение роста у всех спортсменов 176.46428571428572\n"
     ]
    }
   ],
   "source": [
    "all_athletes = np.concatenate([f, h, w])\n",
    "mean_all_athletes = np.mean(all_athletes)\n",
    "print(f\"Среднее значение роста у всех спортсменов: {mean_all_athletes}\")"
   ]
  },
  {
   "cell_type": "code",
   "execution_count": 14,
   "metadata": {},
   "outputs": [
    {
     "name": "stdout",
     "output_type": "stream",
     "text": [
      "Сумма квадратов отклонений наблюдений от общего среднего: 830.9642857142854\n"
     ]
    }
   ],
   "source": [
    "sum_2_dev = np.sum((all_athletes - mean_all_athletes) ** 2)\n",
    "print(f\"Сумма квадратов отклонений наблюдений от общего среднего: {sum_2_dev}\")"
   ]
  },
  {
   "cell_type": "code",
   "execution_count": 18,
   "metadata": {},
   "outputs": [
    {
     "name": "stdout",
     "output_type": "stream",
     "text": [
      "Сумма квадратов отклонений средних групповых значений от общего среднего: 253.9074675324678\n"
     ]
    }
   ],
   "source": [
    "mean_f_dev = (mean_f - mean_all_athletes) ** 2 * f.size\n",
    "mean_h_dev = (mean_h - mean_all_athletes) ** 2 * h.size\n",
    "mean_w_dev = (mean_w - mean_all_athletes) ** 2 * w.size\n",
    "mean_sum_2_dev = (mean_f_dev + mean_h_dev + mean_w_dev)\n",
    "print(f\"Сумма квадратов отклонений средних групповых значений от общего среднего: {mean_sum_2_dev}\")"
   ]
  },
  {
   "cell_type": "code",
   "execution_count": 22,
   "metadata": {},
   "outputs": [
    {
     "name": "stdout",
     "output_type": "stream",
     "text": [
      "Остаточная сумма квадратов отклонений: 577.0568181818182\n"
     ]
    }
   ],
   "source": [
    "mean_f_residual = np.sum((f - mean_f) ** 2)\n",
    "mean_h_residual = np.sum((h - mean_h) ** 2)\n",
    "mean_w_residual = np.sum((w - mean_w) ** 2)\n",
    "sum_2_residual = mean_f_residual + mean_h_residual + mean_w_residual\n",
    "print(f\"Остаточная сумма квадратов отклонений: {sum_2_residual}\")"
   ]
  },
  {
   "cell_type": "code",
   "execution_count": 24,
   "metadata": {},
   "outputs": [
    {
     "name": "stdout",
     "output_type": "stream",
     "text": [
      "Общая дисперсия: 30.776455026455015\n"
     ]
    }
   ],
   "source": [
    "sigma_general = sum_2_dev / (n - 1)\n",
    "print(f\"Общая дисперсия: {sigma_general}\")"
   ]
  },
  {
   "cell_type": "code",
   "execution_count": 26,
   "metadata": {},
   "outputs": [
    {
     "name": "stdout",
     "output_type": "stream",
     "text": [
      "Факторная дисперсия: 126.9537337662339\n"
     ]
    }
   ],
   "source": [
    "sigma_factor = mean_sum_2_dev / 2\n",
    "print(f\"Факторная дисперсия: {sigma_factor}\")"
   ]
  },
  {
   "cell_type": "code",
   "execution_count": 28,
   "metadata": {},
   "outputs": [
    {
     "name": "stdout",
     "output_type": "stream",
     "text": [
      "Остаточная дисперсия: 23.08227272727273\n"
     ]
    }
   ],
   "source": [
    "sigma_residual = sum_2_residual / (n - 3)\n",
    "print(f\"Остаточная дисперсия: {sigma_residual}\")"
   ]
  },
  {
   "cell_type": "code",
   "execution_count": 31,
   "metadata": {},
   "outputs": [
    {
     "name": "stdout",
     "output_type": "stream",
     "text": [
      "Fn критерий: 5.500053450812598\n"
     ]
    }
   ],
   "source": [
    "Fn = sigma_factor / sigma_residual\n",
    "print(f\"Fn критерий: {Fn}\")"
   ]
  },
  {
   "cell_type": "code",
   "execution_count": 35,
   "metadata": {},
   "outputs": [
    {
     "name": "stdout",
     "output_type": "stream",
     "text": [
      "Межгрупповая: 2, внутрегрупповая: 25, Fкрит: 3.38\n"
     ]
    }
   ],
   "source": [
    "print(f\"Межгрупповая: 2, внутрегрупповая: { all_athletes.size - 3 }, Fкрит: 3.38\")"
   ]
  },
  {
   "cell_type": "code",
   "execution_count": 36,
   "metadata": {},
   "outputs": [
    {
     "name": "stdout",
     "output_type": "stream",
     "text": [
      "η = 0.5527726636647112,  η2 = 0.30555761769498\n"
     ]
    }
   ],
   "source": [
    "print(f'η = {np.sqrt(mean_sum_2_dev / sum_2_dev)},  η2 = {mean_sum_2_dev / sum_2_dev}')"
   ]
  },
  {
   "cell_type": "markdown",
   "metadata": {},
   "source": [
    "Вывод: 30% роста определяется видом спорта, из чего следует, что связь умеренная."
   ]
  },
  {
   "cell_type": "code",
   "execution_count": null,
   "metadata": {},
   "outputs": [],
   "source": []
  }
 ],
 "metadata": {
  "kernelspec": {
   "display_name": "Python 3",
   "language": "python",
   "name": "python3"
  },
  "language_info": {
   "codemirror_mode": {
    "name": "ipython",
    "version": 3
   },
   "file_extension": ".py",
   "mimetype": "text/x-python",
   "name": "python",
   "nbconvert_exporter": "python",
   "pygments_lexer": "ipython3",
   "version": "3.7.4"
  }
 },
 "nbformat": 4,
 "nbformat_minor": 2
}
