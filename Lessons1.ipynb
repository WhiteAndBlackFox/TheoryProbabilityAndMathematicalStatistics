{
 "cells": [
  {
   "cell_type": "markdown",
   "metadata": {},
   "source": [
    "# Урок 1."
   ]
  },
  {
   "cell_type": "code",
   "execution_count": 1,
   "metadata": {},
   "outputs": [],
   "source": [
    "from math import factorial as fl"
   ]
  },
  {
   "cell_type": "code",
   "execution_count": 2,
   "metadata": {},
   "outputs": [],
   "source": [
    "def C(k, n):\n",
    "    return fl(n)/(fl(k) * fl(n-k))"
   ]
  },
  {
   "cell_type": "markdown",
   "metadata": {},
   "source": [
    "## 1. Из колоды в 52 карты извлекаются случайным образом 4 карты. \n",
    "### a) Найти вероятность того, что все карты – крести. "
   ]
  },
  {
   "cell_type": "code",
   "execution_count": 10,
   "metadata": {},
   "outputs": [
    {
     "name": "stdout",
     "output_type": "stream",
     "text": [
      "Вероятность, что все карты крести: 0.0026410564225690276 в процентах: 0.26%\n"
     ]
    }
   ],
   "source": [
    "cross = C(4, 13) * C(0, 39) / C(4, 52)\n",
    "print(\"Вероятность, что все карты крести:\", cross, \"в процентах:\", '{:.2f}%'.format(cross*100))"
   ]
  },
  {
   "cell_type": "markdown",
   "metadata": {},
   "source": [
    "### б) Найти вероятность, что среди 4-х карт окажется хотя бы один туз."
   ]
  },
  {
   "cell_type": "code",
   "execution_count": 11,
   "metadata": {},
   "outputs": [
    {
     "name": "stdout",
     "output_type": "stream",
     "text": [
      "Вероятность, что будет хотя бы 1 туз: 0.3076923076923077 в процентах: 30.77%\n"
     ]
    }
   ],
   "source": [
    "ace = C(1, 4) * C(3, 51) / C(4, 52)\n",
    "print(\"Вероятность, что будет хотя бы 1 туз:\", ace, \"в процентах:\",  '{:.2f}%'.format(ace*100))"
   ]
  },
  {
   "cell_type": "markdown",
   "metadata": {},
   "source": [
    "## 2. На входной двери подъезда установлен кодовый замок, содержащий десять кнопок с цифрами от 0 до 9. Код содержит три цифры, которые нужно нажать одновременно. Какова вероятность того, что человек, не знающий код, откроет дверь с первой попытки?"
   ]
  },
  {
   "cell_type": "code",
   "execution_count": 13,
   "metadata": {},
   "outputs": [
    {
     "name": "stdout",
     "output_type": "stream",
     "text": [
      "Вероятность, что не знающий кода, откроет дверь с первого раза: 0.08333333333333333 в процентах: 8.33%\n"
     ]
    }
   ],
   "source": [
    "passwd = C(1, 10) / C(3, 10)\n",
    "print(\"Вероятность, что не знающий кода, откроет дверь с первого раза:\", passwd, \"в процентах:\",  '{:.2f}%'.format(passwd*100))"
   ]
  },
  {
   "cell_type": "markdown",
   "metadata": {},
   "source": [
    "## 3. В ящике имеется 15 деталей, из которых 9 окрашены. Рабочий случайным образом извлекает 3 детали. Какова вероятность того, что все извлеченные детали окрашены?\n"
   ]
  },
  {
   "cell_type": "code",
   "execution_count": 14,
   "metadata": {},
   "outputs": [
    {
     "name": "stdout",
     "output_type": "stream",
     "text": [
      "Вероятность, что все детали окрашены: 0.18461538461538463 в процентах: 18.46%\n"
     ]
    }
   ],
   "source": [
    "details = C(3, 9) * C(0, 6) / C(3, 15)\n",
    "print(\"Вероятность, что все детали окрашены:\", details, \"в процентах:\",  '{:.2f}%'.format(details*100))"
   ]
  },
  {
   "cell_type": "markdown",
   "metadata": {},
   "source": [
    "## 4. В лотерее 100 билетов. Из них 2 выигрышных. Какова вероятность того, что 2 приобретенных билета окажутся выигрышными?\n"
   ]
  },
  {
   "cell_type": "code",
   "execution_count": 15,
   "metadata": {},
   "outputs": [
    {
     "name": "stdout",
     "output_type": "stream",
     "text": [
      "Вероятность, что билеты выигрышные: 0.00020202020202020202 в процентах: 0.02%\n"
     ]
    }
   ],
   "source": [
    "tiket = C(2, 2) * C(0, 98) / C(2, 100)\n",
    "print(\"Вероятность, что билеты выигрышные:\", tiket, \"в процентах:\",  '{:.2f}%'.format(tiket*100))"
   ]
  },
  {
   "cell_type": "code",
   "execution_count": null,
   "metadata": {},
   "outputs": [],
   "source": []
  }
 ],
 "metadata": {
  "kernelspec": {
   "display_name": "Python 3",
   "language": "python",
   "name": "python3"
  },
  "language_info": {
   "codemirror_mode": {
    "name": "ipython",
    "version": 3
   },
   "file_extension": ".py",
   "mimetype": "text/x-python",
   "name": "python",
   "nbconvert_exporter": "python",
   "pygments_lexer": "ipython3",
   "version": "3.7.4"
  }
 },
 "nbformat": 4,
 "nbformat_minor": 2
}
