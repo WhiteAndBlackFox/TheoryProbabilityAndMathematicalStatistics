{
 "cells": [
  {
   "cell_type": "markdown",
   "metadata": {},
   "source": [
    "# Дискретные случайные величины. Закон распределения вероятностей. Биномиальный закон распределения. Распределение Пуассона"
   ]
  },
  {
   "cell_type": "code",
   "execution_count": 9,
   "metadata": {},
   "outputs": [],
   "source": [
    "import math\n",
    "from math import factorial as fc\n",
    "import numpy as np"
   ]
  },
  {
   "cell_type": "code",
   "execution_count": 86,
   "metadata": {},
   "outputs": [],
   "source": [
    "def combinations(n, k):\n",
    "    return  math.factorial(n)/(math.factorial(k)*math.factorial(n-k))\n",
    "\n",
    "def bernuly(k, n, p):\n",
    "    return combinations(n, k) * p**k * (1-p)**(n-k) * 100"
   ]
  },
  {
   "cell_type": "markdown",
   "metadata": {},
   "source": [
    "## 1. Вероятность того, что стрелок попадет в мишень, выстрелив один раз, равна 0.8. Стрелок выстрелил 100 раз. Найдите вероятность того, что стрелок попадет в цель ровно 85 раз."
   ]
  },
  {
   "cell_type": "code",
   "execution_count": 31,
   "metadata": {},
   "outputs": [
    {
     "name": "stdout",
     "output_type": "stream",
     "text": [
      "Вероятность того, что стрелок попадет в цель ровно 85 раз: 4.81%\n"
     ]
    }
   ],
   "source": [
    "k = 85\n",
    "n = 100\n",
    "p = 0.8\n",
    "shoot_85 = bernuly(k, n, p)\n",
    "print(\"Вероятность того, что стрелок попадет в цель ровно 85 раз: {:.2f}%\".format(shoot_85))"
   ]
  },
  {
   "cell_type": "markdown",
   "metadata": {},
   "source": [
    "## 2. Вероятность того, что лампочка перегорит в течение первого дня эксплуатации, равна 0.0004. В жилом комплексе после ремонта в один день включили 5000 новых лампочек. Какова вероятность, что ни одна из них не перегорит в первый день? Какова вероятность, что перегорят ровно две?"
   ]
  },
  {
   "cell_type": "code",
   "execution_count": 23,
   "metadata": {},
   "outputs": [
    {
     "name": "stdout",
     "output_type": "stream",
     "text": [
      "Вероятность, что ни одной лампочки не перегорит в 1 день: 13.53%\n",
      "Вероятность, что 2 лампочки перегорит в 1 день: 27.07%\n"
     ]
    }
   ],
   "source": [
    "p = 0.0004\n",
    "n = 5000\n",
    "cond_1 = 0\n",
    "cond_2 = 2\n",
    "_lambda = p * n\n",
    "not_burn = _lambda**cond_1 / fc(cond_1) * np.exp(-_lambda) * 100\n",
    "two_burn = _lambda**cond_2 / fc(cond_2) * np.exp(-_lambda) * 100\n",
    "print(\"Вероятность, что ни одной лампочки не перегорит в 1 день: {:.2f}%\".format(not_burn))\n",
    "print(\"Вероятность, что 2 лампочки перегорит в 1 день: {:.2f}%\".format(two_burn))"
   ]
  },
  {
   "cell_type": "markdown",
   "metadata": {},
   "source": [
    "## 3. Монету подбросили 144 раза. Какова вероятность, что орел выпадет ровно 70 раз?"
   ]
  },
  {
   "cell_type": "code",
   "execution_count": 32,
   "metadata": {},
   "outputs": [
    {
     "name": "stdout",
     "output_type": "stream",
     "text": [
      "Вероятность, что орел выпадет ровно 70 раз: 6.28%\n"
     ]
    }
   ],
   "source": [
    "n = 144\n",
    "k = 70\n",
    "p = 0.5\n",
    "money_144 = bernuly(k, n, p)\n",
    "print(\"Вероятность, что орел выпадет ровно 70 раз: {:.2f}%\".format(money_144))"
   ]
  },
  {
   "cell_type": "markdown",
   "metadata": {},
   "source": [
    "## 4. В первом ящике находится 10 мячей, из которых 7 - белые. Во втором ящике - 11 мячей, из которых 9 белых. Из каждого ящика вытаскивают случайным образом по два мяча. Какова вероятность того, что все мячи белые? Какова вероятность того, что ровно два мяча белые? Какова вероятность того, что хотя бы один мяч белый?"
   ]
  },
  {
   "cell_type": "code",
   "execution_count": 93,
   "metadata": {},
   "outputs": [
    {
     "name": "stdout",
     "output_type": "stream",
     "text": [
      "Вероятность, что все мячи белые: 30.55%\n",
      "Вероятность, что ровно два мяча белые: 20.48%\n",
      "Вероятность, что хотя бы один мяч белый: 99.88%\n"
     ]
    }
   ],
   "source": [
    "boxs = {\n",
    "    'box_1': {\n",
    "        'count': 10,\n",
    "        'white': 7\n",
    "    },\n",
    "    'box_2': {\n",
    "        'count': 11,\n",
    "        'white': 9\n",
    "    }\n",
    "}\n",
    "count_take = 2\n",
    "\n",
    "# Вычисляем вероятность первого события, cond_1 принимает сто, \n",
    "# т.к. в условии сторого сказано что и в первом должны вытащить все белые, так и во втором, заранее умножили единицу на 100\n",
    "cond_1 = 100\n",
    "for name_box in boxs:\n",
    "    for num_take in range(count_take):\n",
    "        cond_1 *= ((boxs[name_box]['white'] - num_take) / (boxs[name_box]['count'] - num_take))\n",
    "\n",
    "# Вычисляем вероятность второго события, из условия предположим:\n",
    "cond_2 = 0\n",
    "# Предлоложение первое, 2 белый вытащили в первом ящике, во втором 0\n",
    "cond_2 += (combinations(boxs['box_1']['white'], 2) / combinations(boxs['box_1']['count'], 2) * combinations(boxs['box_2']['count'] - boxs['box_2']['white'], 2) / combinations(boxs['box_2']['count'], 2))\n",
    "# Предположение второе, 2 белый вытащили в первом ящике, во втором 0\n",
    "cond_2 += (combinations(boxs['box_1']['count'] - boxs['box_1']['white'], 2) / combinations(boxs['box_1']['count'], 2) * combinations(boxs['box_2']['white'], 2) / combinations(boxs['box_2']['count'], 2))\n",
    "# Предположение третье, из каждого ящика вытащим по 1 белому шарику\n",
    "cond_2 += (combinations(boxs['box_1']['white'], 1) * combinations(boxs['box_1']['count'] - boxs['box_1']['white'], 1) / combinations(boxs['box_1']['count'], 2) * combinations(boxs['box_2']['white'], 1) * combinations(boxs['box_2']['count'] - boxs['box_2']['white'], 1) / combinations(boxs['box_2']['count'], 2))\n",
    "\n",
    "# Вычисляем вероятность третьего события, из условия значения могут принимать:\n",
    "# 1+0, 0+1, 2+2, 3+1, 1+3, 4+0, 0+4\n",
    "# Можно пойти от обратного, т.е. ни одного белого мяча и инвертируем результат\n",
    "cond_3 = 1 - (combinations(boxs['box_1']['count'] - boxs['box_1']['white'], 2) / combinations(boxs['box_1']['count'], 2) * combinations(boxs['box_2']['count'] - boxs['box_2']['white'], 2) / combinations(boxs['box_2']['count'], 2))\n",
    "\n",
    "\n",
    "print(\"Вероятность, что все мячи белые: {:.2f}%\".format(cond_1))\n",
    "print(\"Вероятность, что ровно два мяча белые: {:.2f}%\".format(cond_2*100))\n",
    "print(\"Вероятность, что хотя бы один мяч белый: {:.2f}%\".format(cond_3*100))"
   ]
  },
  {
   "cell_type": "code",
   "execution_count": null,
   "metadata": {},
   "outputs": [],
   "source": []
  }
 ],
 "metadata": {
  "kernelspec": {
   "display_name": "Python 3",
   "language": "python",
   "name": "python3"
  },
  "language_info": {
   "codemirror_mode": {
    "name": "ipython",
    "version": 3
   },
   "file_extension": ".py",
   "mimetype": "text/x-python",
   "name": "python",
   "nbconvert_exporter": "python",
   "pygments_lexer": "ipython3",
   "version": "3.7.4"
  }
 },
 "nbformat": 4,
 "nbformat_minor": 2
}
