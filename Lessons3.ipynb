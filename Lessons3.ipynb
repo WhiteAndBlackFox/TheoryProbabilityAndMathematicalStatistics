{
 "cells": [
  {
   "cell_type": "markdown",
   "metadata": {},
   "source": [
    "# Описательная статистика. Качественные и количественные характеристики популяции. Графическое представление данных"
   ]
  },
  {
   "cell_type": "code",
   "execution_count": 1,
   "metadata": {},
   "outputs": [],
   "source": [
    "import numpy as np"
   ]
  },
  {
   "cell_type": "code",
   "execution_count": 5,
   "metadata": {},
   "outputs": [],
   "source": [
    "def combinations(n,k):\n",
    "    return np.math.factorial(n) / np.math.factorial(n-k)"
   ]
  },
  {
   "cell_type": "markdown",
   "metadata": {},
   "source": [
    "## Даны значения зарплат из выборки выпускников: 100, 80, 75, 77, 89, 33, 45, 25, 65, 17, 30, 24, 57, 55, 70, 75, 65, 84, 90, 150. Посчитать (желательно без использования статистических методов наподобие std, var, mean) среднее арифметическое, среднее квадратичное отклонение, смещенную и несмещенную оценки дисперсий для данной выборки."
   ]
  },
  {
   "cell_type": "code",
   "execution_count": 4,
   "metadata": {},
   "outputs": [
    {
     "name": "stdout",
     "output_type": "stream",
     "text": [
      "Среднее значение: 65.3\n",
      "Дисперсия смещенная: 950.11\n",
      "Дисперсия несмещенная: 1000.1157894736842\n",
      "Стандартное отклонение: 30.823854398825596\n"
     ]
    }
   ],
   "source": [
    "zp = np.array([100, 80, 75, 77, 89, 33, 45, 25, 65, 17, 30, 24, 57, 55, 70, 75, 65, 84, 90, 150])\n",
    "\n",
    "# среднее арифметическое\n",
    "mean = np.sum(zp)/len(zp)\n",
    "\n",
    "# смещенная оценка\n",
    "asses_0 = np.sum(( zp - mean)**2) / len(zp)\n",
    "# несмещенная оценка\n",
    "asses_1 = np.sum(( zp - mean)**2) / (len(zp) -1) \n",
    "\n",
    "# среднее квадратичное отклонение\n",
    "stdval = np.sqrt(asses_0)\n",
    "\n",
    "print (f'Среднее значение: {mean}')\n",
    "print (f'Дисперсия смещенная: {asses_0}')\n",
    "print (f'Дисперсия несмещенная: {asses_1}')\n",
    "print (f'Стандартное отклонение: {stdval}')"
   ]
  },
  {
   "cell_type": "markdown",
   "metadata": {},
   "source": [
    "## В первом ящике находится 8 мячей, из которых 5 - белые. Во втором ящике - 12 мячей, из которых 5 белых. Из первого ящика вытаскивают случайным образом два мяча, из второго - 4. Какова вероятность того, что 3 мяча белые?"
   ]
  },
  {
   "cell_type": "code",
   "execution_count": 9,
   "metadata": {},
   "outputs": [
    {
     "name": "stdout",
     "output_type": "stream",
     "text": [
      "Вероятность того, что 3 мяча белые: 0.08%\n"
     ]
    }
   ],
   "source": [
    "# Предположения:\n",
    "# cond_1 = 0 белых и 3 белых\n",
    "# cond_2 = 1 белый и 2 белых\n",
    "# cond_3 = 2 белых и 1 белый\n",
    "\n",
    "cond_1 = combinations(3, 2) / combinations(8, 2) * combinations(5, 3) / combinations(12, 4)\n",
    "cond_2 = combinations(5, 1) / combinations(8, 2) * combinations(5, 2) / combinations(12, 4)\n",
    "cond_3 = combinations(5, 2) / combinations(8, 2) * combinations(5, 1) / combinations(12, 4)\n",
    "\n",
    "cond = cond_1 + cond_2 + cond_3\n",
    "\n",
    "print('Вероятность того, что 3 мяча белые: {:.2f}%'.format(cond * 100))"
   ]
  },
  {
   "cell_type": "markdown",
   "metadata": {},
   "source": [
    "## На соревновании по биатлону один из трех спортсменов стреляет и попадает в мишень. Вероятность попадания для первого спортсмена равна 0.9, для второго — 0.8, для третьего — 0.6. Найти вероятность того, что выстрел произведен: a) первым спортсменом б) вторым спортсменом в) третьим спортсменом."
   ]
  },
  {
   "cell_type": "code",
   "execution_count": 14,
   "metadata": {},
   "outputs": [
    {
     "name": "stdout",
     "output_type": "stream",
     "text": [
      "Первый спортсмен: 39.13%, второй спортсмен: 0.35%, третий спортсмен: 0.26%\n"
     ]
    }
   ],
   "source": [
    "# hit(попал)\n",
    "hit_in = (0.8 + 0.6 + 0.9) /3\n",
    "\n",
    "#hit(попал|1)*hit(1) / hit(попал) = hit(1|попал)\n",
    "hit_1 = 0.9 * (1 / 3) / hit_in * 100\n",
    "\n",
    "#hit(попал|3)*hit(2) / hit(попал) = hit(2|попал)\n",
    "hit_2 = 0.8 * (1 / 3) / hit_in\n",
    "\n",
    "#hit(попал|3)*hit(3) / hit(попал) = hit(3|попал)\n",
    "hit_3 = 0.6 * (1 / 3) / hit_in\n",
    "\n",
    "print ('Первый спортсмен: {:.2f}%, второй спортсмен: {:.2f}%, третий спортсмен: {:.2f}%'.format(hit_1, hit_2, hit_3))"
   ]
  },
  {
   "cell_type": "markdown",
   "metadata": {},
   "source": [
    "## В университет на факультеты A и B поступило равное количество студентов, а на факультет C студентов поступило столько же, сколько на A и B вместе. Вероятность того, что студент факультета A сдаст первую сессию, равна 0.8. Для студента факультета B эта вероятность равна 0.7, а для студента факультета C - 0.9. Студент сдал первую сессию. Какова вероятность, что он учится: a) на факультете A б) на факультете B в) на факультете C?"
   ]
  },
  {
   "cell_type": "code",
   "execution_count": 16,
   "metadata": {},
   "outputs": [
    {
     "name": "stdout",
     "output_type": "stream",
     "text": [
      "на факультете: A = 24.24%, B = 21.21%, C = 54.55%\n"
     ]
    }
   ],
   "source": [
    "student_sdal = 0.8 *(1 / 4) + 0.7 * (1 / 4) + 0.9 * (2 / 4)\n",
    "\n",
    "student_a = 0.8 * (1 / 4) / student_sdal * 100\n",
    "student_b = 0.7 * (1 / 4) / student_sdal * 100\n",
    "student_c = 0.9 * (2 / 4) / student_sdal * 100\n",
    "\n",
    "print ('на факультете: A = {:.2f}%, B = {:.2f}%, C = {:.2f}%'.format(student_a, student_b, student_c))"
   ]
  },
  {
   "cell_type": "markdown",
   "metadata": {},
   "source": [
    "## Устройство состоит из трех деталей. Для первой детали вероятность выйти из строя в первый месяц равна 0.1, для второй - 0.2, для третьей - 0.25. Какова вероятность того, что в первый месяц выйдут из строя: а) все детали б) только две детали в) хотя бы одна деталь г) от одной до двух деталей?"
   ]
  },
  {
   "cell_type": "code",
   "execution_count": 18,
   "metadata": {},
   "outputs": [
    {
     "name": "stdout",
     "output_type": "stream",
     "text": [
      "Все детали: 0.50%\n",
      "Только две детали: 8.00%\n",
      "Хотя бы одна деталь: 46.00%\n",
      "1 - 2 детали: 45.50%\n"
     ]
    }
   ],
   "source": [
    "all_details = 0.1 * 0.2 * 0.25 * 100\n",
    "two_details = (0.1 * 0.2 * 0.75  + 0.1 * 0.8 * 0.25 + 0.9 * 0.2 * 0.25) * 100\n",
    "one_details = (1 - 0.9 * 0.8 * 0.75) * 100\n",
    "one_two_deteils = ((0.1 * 0.2 * 0.75  + 0.1 * 0.8 * 0.25 + 0.9 * 0.2 * 0.25) + (0.1 * 0.8 * 0.75  + 0.9 * 0.2 * 0.75 + 0.9 * 0.8 * 0.25)) * 100\n",
    "\n",
    "print('Все детали: {:.2f}%'.format(all_details))\n",
    "print('Только две детали: {:.2f}%'.format(two_details))\n",
    "print('Хотя бы одна деталь: {:.2f}%'.format(one_details))\n",
    "print('1 - 2 детали: {:.2f}%'.format(one_two_deteils))"
   ]
  },
  {
   "cell_type": "code",
   "execution_count": null,
   "metadata": {},
   "outputs": [],
   "source": []
  }
 ],
 "metadata": {
  "kernelspec": {
   "display_name": "Python 3",
   "language": "python",
   "name": "python3"
  },
  "language_info": {
   "codemirror_mode": {
    "name": "ipython",
    "version": 3
   },
   "file_extension": ".py",
   "mimetype": "text/x-python",
   "name": "python",
   "nbconvert_exporter": "python",
   "pygments_lexer": "ipython3",
   "version": "3.7.4"
  }
 },
 "nbformat": 4,
 "nbformat_minor": 2
}
