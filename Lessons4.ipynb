{
 "cells": [
  {
   "cell_type": "markdown",
   "metadata": {},
   "source": [
    "# Непрерывные случайные величины. Функция распределения и плотность распределения вероятностей. Равномерное и нормальное распределение. Центральная предельная теорема"
   ]
  },
  {
   "cell_type": "code",
   "execution_count": 7,
   "metadata": {},
   "outputs": [],
   "source": [
    "import numpy as np\n",
    "from scipy.stats import norm"
   ]
  },
  {
   "cell_type": "markdown",
   "metadata": {},
   "source": [
    "## Случайная непрерывная величина A имеет равномерное распределение на промежутке (200, 800]. Найдите ее среднее значение и дисперсию."
   ]
  },
  {
   "cell_type": "code",
   "execution_count": 2,
   "metadata": {},
   "outputs": [
    {
     "name": "stdout",
     "output_type": "stream",
     "text": [
      "Среднее значение случайной величины: 500\n",
      "Дисперсия случайной величины: 30000\n"
     ]
    }
   ],
   "source": [
    "avg = int((200 + 800) / 2)\n",
    "D = int((800 - 200)**2 / 12 )\n",
    "\n",
    "print(f'Среднее значение случайной величины: {avg}')\n",
    "print(f'Дисперсия случайной величины: {D}')"
   ]
  },
  {
   "cell_type": "markdown",
   "metadata": {},
   "source": [
    "## О случайной непрерывной равномерно распределенной величине B известно, что ее дисперсия равна 0.2. Можно ли найти правую границу величины B и ее среднее значение зная, что левая граница равна 0.5? Если да, найдите ее."
   ]
  },
  {
   "cell_type": "code",
   "execution_count": 5,
   "metadata": {},
   "outputs": [
    {
     "name": "stdout",
     "output_type": "stream",
     "text": [
      "Правая граница величины B равна 2.049193338482967\n",
      "Среднее значение величины B равно 1.2745966692414834\n"
     ]
    }
   ],
   "source": [
    "a = 0.5\n",
    "d = 0.2\n",
    "b = np.sqrt(12 * d) + a\n",
    "mean_b = (b + 0.5) / 2\n",
    "print(f\"Правая граница величины B равна {b}\")\n",
    "print(f\"Среднее значение величины B равно {mean_b}\")"
   ]
  },
  {
   "cell_type": "markdown",
   "metadata": {},
   "source": [
    "## Непрерывная случайная величина X распределена нормально и задана плотностью распределения f(x) = (1 / (4 * sqrt(2*pi))) * (exp(-(x+2)**2) / 32). Найдите: а) M(X) б) D(X) в) std(X) (среднее квадратичное отклонение)"
   ]
  },
  {
   "cell_type": "code",
   "execution_count": 6,
   "metadata": {},
   "outputs": [
    {
     "name": "stdout",
     "output_type": "stream",
     "text": [
      "M(X) = -2\n",
      "D(X) = 16\n",
      "std(X) (среднее квадратичное отклонение) = 4\n"
     ]
    }
   ],
   "source": [
    "_sigma = 4\n",
    "Mx = -2\n",
    "Dx = 16\n",
    "print(f'M(X) = {Mx}')\n",
    "print(f'D(X) = {Dx}')\n",
    "print(f'std(X) (среднее квадратичное отклонение) = {_sigma}')"
   ]
  },
  {
   "cell_type": "markdown",
   "metadata": {},
   "source": [
    "## Рост взрослого населения города X имеет нормальное распределение. Причем, средний рост равен 174 см, а среднее квадратичное отклонение равно 8 см. Какова вероятность того, что случайным образом выбранный взрослый человек имеет рост: а). больше 182 см б). больше 190 см в). от 166 см до 190 см г). от 166 см до 182 см д). от 158 см до 190 см е). не выше 150 см или не ниже 190 см ё). не выше 150 см или не ниже 198 см ж). ниже 166 см. "
   ]
  },
  {
   "cell_type": "code",
   "execution_count": 10,
   "metadata": {},
   "outputs": [
    {
     "name": "stdout",
     "output_type": "stream",
     "text": [
      "a) 0.16%\n",
      "б) 0.02%\n",
      "в) 0.82%\n",
      "г) 0.68%\n",
      "д) 0.95%\n",
      "е) 0.02%\n",
      "ё) 0.00%\n",
      "ж) 0.16%\n"
     ]
    }
   ],
   "source": [
    "print('a) {:.2f}%'.format(1 - norm.cdf(182, 174,8)))\n",
    "print('б) {:.2f}%'.format(1 - norm.cdf(190, 174,8)))\n",
    "print('в) {:.2f}%'.format(norm.cdf(190, 174,8) - norm.cdf(166, 174,8)))\n",
    "print('г) {:.2f}%'.format(norm.cdf(182, 174,8) - norm.cdf(166, 174,8)))\n",
    "print('д) {:.2f}%'.format(norm.cdf(190, 174,8) - norm.cdf(158, 174,8)))\n",
    "print('е) {:.2f}%'.format(norm.cdf(150, 174,8) + (1 - norm.cdf(190, 174,8))))\n",
    "print('ё) {:.2f}%'.format(norm.cdf(150, 174,8) + (1 - norm.cdf(198, 174,8))))\n",
    "print('ж) {:.2f}%'.format(norm.cdf(166, 174,8)))"
   ]
  },
  {
   "cell_type": "markdown",
   "metadata": {},
   "source": [
    "## На сколько сигм (средних квадратичных отклонений) отклоняется рост человека, равный 190 см, от математического ожидания роста в популяции, в которой M(X) = 178 см и D(X) = 25 кв.см?"
   ]
  },
  {
   "cell_type": "code",
   "execution_count": 12,
   "metadata": {},
   "outputs": [
    {
     "name": "stdout",
     "output_type": "stream",
     "text": [
      "Среднее квадратичное отклонение = 5.0\n",
      "Рост человека равный 190 см отклоняется от мат ожидания роста в популяции на 2.4 сигм\n"
     ]
    }
   ],
   "source": [
    "X = 190\n",
    "MX = 178\n",
    "DX = 25\n",
    "_sigma = np.sqrt(DX)\n",
    "print(f'Среднее квадратичное отклонение = {_sigma}')\n",
    "print(f'Отклонение на {np.abs((MX - X)/_sigma)} сигм')"
   ]
  },
  {
   "cell_type": "code",
   "execution_count": null,
   "metadata": {},
   "outputs": [],
   "source": []
  }
 ],
 "metadata": {
  "kernelspec": {
   "display_name": "Python 3",
   "language": "python",
   "name": "python3"
  },
  "language_info": {
   "codemirror_mode": {
    "name": "ipython",
    "version": 3
   },
   "file_extension": ".py",
   "mimetype": "text/x-python",
   "name": "python",
   "nbconvert_exporter": "python",
   "pygments_lexer": "ipython3",
   "version": "3.7.4"
  }
 },
 "nbformat": 4,
 "nbformat_minor": 2
}
