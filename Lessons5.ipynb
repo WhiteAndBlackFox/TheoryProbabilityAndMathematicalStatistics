{
 "cells": [
  {
   "cell_type": "markdown",
   "metadata": {},
   "source": [
    "# Урок 5. Проверка статистических гипотез. P-значения. Доверительные интервалы. A/B-тестирование"
   ]
  },
  {
   "cell_type": "code",
   "execution_count": 6,
   "metadata": {},
   "outputs": [],
   "source": [
    "import numpy as np\n",
    "import math"
   ]
  },
  {
   "cell_type": "code",
   "execution_count": 7,
   "metadata": {},
   "outputs": [],
   "source": [
    "def getT(average, Z, std_v, n):\n",
    "    return [round(average - Z*std_v/np.sqrt(n), 2), round(average + Z*std_v/np.sqrt(n), 2)]"
   ]
  },
  {
   "cell_type": "markdown",
   "metadata": {},
   "source": [
    "## 1. Известно, что генеральная совокупность распределена нормально со средним квадратическим отклонением, равным 16. Найти доверительный интервал для оценки математического ожидания a с надежностью 0.95, если выборочная средняя M = 80, а объем выборки n = 256."
   ]
  },
  {
   "cell_type": "code",
   "execution_count": 8,
   "metadata": {},
   "outputs": [
    {
     "name": "stdout",
     "output_type": "stream",
     "text": [
      "Доверительный диапазон: от 78.04 до 81.96\n"
     ]
    }
   ],
   "source": [
    "std_v = 16\n",
    "a = 0.95\n",
    "n = 256\n",
    "M = 80\n",
    "\n",
    "[minT, maxT] = getT(M, 1.96, std_v, n)\n",
    "print(f\"Доверительный диапазон: от {minT} до {maxT}\")"
   ]
  },
  {
   "cell_type": "markdown",
   "metadata": {},
   "source": [
    "## 2. В результате 10 независимых измерений некоторой величины X, выполненных с одинаковой точностью, получены опытные данные: 6.9, 6.1, 6.2, 6.8, 7.5, 6.3, 6.4, 6.9, 6.7, 6.1. Предполагая, что результаты измерений подчинены нормальному закону распределения вероятностей, оценить истинное значение величины X при помощи доверительного интервала, покрывающего это значение с доверительной вероятностью 0,95."
   ]
  },
  {
   "cell_type": "code",
   "execution_count": 13,
   "metadata": {},
   "outputs": [
    {
     "name": "stdout",
     "output_type": "stream",
     "text": [
      "Доверительный диапазон: от 6.27 до 6.91\n",
      "X: 6.59\n"
     ]
    }
   ],
   "source": [
    "x = np.array([ 6.9, 6.1, 6.2, 6.8, 7.5, 6.3, 6.4, 6.9, 6.7, 6.1])\n",
    "M = x.mean()\n",
    "std = x.var(ddof=1)**0.5\n",
    "t = 2.262\n",
    "\n",
    "[minT, maxT] = getT(M, t, std, len(x))\n",
    "print(f\"Доверительный диапазон: от {minT} до {maxT}\")\n",
    "print(\"X:\", (minT+maxT)/2)"
   ]
  },
  {
   "cell_type": "markdown",
   "metadata": {},
   "source": [
    "## 3. Утверждается, что шарики для подшипников, изготовленные автоматическим станком, имеют средний диаметр 17 мм. Используя односторонний критерий с α=0,05, проверить эту гипотезу, если в выборке из n=100 шариков средний диаметр оказался равным 17.5 мм, а дисперсия известна и равна 4 кв.мм."
   ]
  },
  {
   "cell_type": "code",
   "execution_count": 10,
   "metadata": {},
   "outputs": [
    {
     "name": "stdout",
     "output_type": "stream",
     "text": [
      "Z: 2.5\n",
      "Для H0 гипотезза не верна, т.к. Z искомое больше Z табличному. Верна гипотиза H1 при урвне значимости 5%.\n"
     ]
    }
   ],
   "source": [
    "mu0 = 17\n",
    "mu = 17.5\n",
    "a = 0.05\n",
    "n = 100\n",
    "d = 4\n",
    "zt = 1.645\n",
    "\n",
    "z = (mu-mu0)/(math.sqrt(d)/math.sqrt(n))\n",
    "\n",
    "print(f\"Z: {z}\")\n",
    "\n",
    "print(\"Для H0 гипотезза не верна, т.к. Z искомое больше Z табличному. Верна гипотиза H1 при урвне значимости 5%.\")"
   ]
  },
  {
   "cell_type": "markdown",
   "metadata": {},
   "source": [
    "## 4. Продавец утверждает, что средний вес пачки печенья составляет 200 г. Из партии извлечена выборка из 10 пачек. Вес каждой пачки составляет: 202, 203, 199, 197, 195, 201, 200, 204, 194, 190. Известно, что их веса распределены нормально. Верно ли утверждение продавца, если учитывать, что доверительная вероятность равна 99%?"
   ]
  },
  {
   "cell_type": "code",
   "execution_count": 16,
   "metadata": {},
   "outputs": [
    {
     "name": "stdout",
     "output_type": "stream",
     "text": [
      "Z: -1.06511\n",
      "Для H0 гипотезза верна, т.к. Z искомое меньше Z табличному.\n"
     ]
    }
   ],
   "source": [
    "Xhyp = 200\n",
    "alpha = 0.005\n",
    "vals = np.array([202, 203, 199, 197, 195, 201, 200, 204, 194, 190])\n",
    "n = len(vals)\n",
    "Xfact = vals.mean()\n",
    "std_v = vals.var(ddof=1)**0.5\n",
    "\n",
    "Z = round((Xfact - Xhyp)*np.sqrt(n)/std_v, 5)\n",
    "print(f\"Z: {Z}\")\n",
    "print(\"Для H0 гипотезза верна, т.к. Z искомое меньше Z табличному.\")"
   ]
  },
  {
   "cell_type": "code",
   "execution_count": null,
   "metadata": {},
   "outputs": [],
   "source": []
  }
 ],
 "metadata": {
  "kernelspec": {
   "display_name": "Python 3",
   "language": "python",
   "name": "python3"
  },
  "language_info": {
   "codemirror_mode": {
    "name": "ipython",
    "version": 3
   },
   "file_extension": ".py",
   "mimetype": "text/x-python",
   "name": "python",
   "nbconvert_exporter": "python",
   "pygments_lexer": "ipython3",
   "version": "3.7.4"
  }
 },
 "nbformat": 4,
 "nbformat_minor": 2
}
